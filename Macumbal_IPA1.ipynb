{
 "cells": [
  {
   "cell_type": "code",
   "execution_count": 13,
   "id": "1ef8b14d-cc41-45a2-94ec-06578c3ff70d",
   "metadata": {},
   "outputs": [
    {
     "data": {
      "text/plain": [
       "'\\nMohammad Azzam Rakiin A. Macumbal\\nModule 2: Individual Programming Assignment 1\\nUseful Business Calculations\\nThis assignment covers your basic proficiency with Python.\\n'"
      ]
     },
     "execution_count": 13,
     "metadata": {},
     "output_type": "execute_result"
    }
   ],
   "source": [
    "'''\n",
    "Mohammad Azzam Rakiin A. Macumbal\n",
    "Module 2: Individual Programming Assignment 1\n",
    "Useful Business Calculations\n",
    "This assignment covers your basic proficiency with Python.\n",
    "'''\n"
   ]
  },
  {
   "cell_type": "code",
   "execution_count": 14,
   "id": "29611dc0-8096-4052-9661-c7cb4819ca8f",
   "metadata": {},
   "outputs": [],
   "source": [
    "def savings (gross_pay, tax_rate, expenses):\n",
    "    return (int(gross_pay*(1-tax_rate))-expenses)"
   ]
  },
  {
   "cell_type": "code",
   "execution_count": 15,
   "id": "292ebbc5-b31b-4f3f-9784-ee38e8f9f303",
   "metadata": {},
   "outputs": [],
   "source": [
    "def material_waste(total_material, material_units, num_jobs, job_consumption):\n",
    "    return(str(total_material - (num_jobs*job_consumption))+material_units)"
   ]
  },
  {
   "cell_type": "code",
   "execution_count": 16,
   "id": "a24e0214-96dc-4d72-9d7c-985bcdf40a7a",
   "metadata": {},
   "outputs": [],
   "source": [
    "def interest(principal, rate, periods):\n",
    "    return (int(principal*(1+(rate*periods))))"
   ]
  },
  {
   "cell_type": "code",
   "execution_count": 17,
   "id": "67cb91b2-fce5-42b5-b873-09f12b96b6a8",
   "metadata": {},
   "outputs": [],
   "source": [
    "def body_mass_index(weight, height): \n",
    "    return((weight * 0.453592)/((((height[0]*12)+height[1])*0.0254)**2))"
   ]
  },
  {
   "cell_type": "code",
   "execution_count": null,
   "id": "8fa60232-f12d-403b-802a-5b4f39097758",
   "metadata": {},
   "outputs": [],
   "source": []
  }
 ],
 "metadata": {
  "kernelspec": {
   "display_name": "Python 3 (ipykernel)",
   "language": "python",
   "name": "python3"
  },
  "language_info": {
   "codemirror_mode": {
    "name": "ipython",
    "version": 3
   },
   "file_extension": ".py",
   "mimetype": "text/x-python",
   "name": "python",
   "nbconvert_exporter": "python",
   "pygments_lexer": "ipython3",
   "version": "3.9.12"
  }
 },
 "nbformat": 4,
 "nbformat_minor": 5
}
