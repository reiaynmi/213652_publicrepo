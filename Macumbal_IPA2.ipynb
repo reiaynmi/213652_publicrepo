{
 "cells": [
  {
   "cell_type": "code",
   "execution_count": 2,
   "id": "899d4e9a-7229-41c7-a266-efde68004be1",
   "metadata": {},
   "outputs": [],
   "source": [
    "def shift_letter (letter, shift):\n",
    "    #return space if space\n",
    "    if letter == \" \":\n",
    "        return (\" \")\n",
    "    else:\n",
    "        order_letter = ord(letter) + int(shift)\n",
    "        #if chr goes past 90 (i.e goes past Z), reset and subtract 26 to return to A\n",
    "        if order_letter > 90:\n",
    "            order_letter -= 26\n",
    "            return (chr(order_letter))\n",
    "        else:\n",
    "            return (chr(order_letter))"
   ]
  },
  {
   "cell_type": "code",
   "execution_count": null,
   "id": "414fbeb0-40d3-465a-b24d-066737941264",
   "metadata": {},
   "outputs": [],
   "source": [
    "def caesar_cipher (message, shift):\n",
    "    #initialize cipher list. iterate over message to get needed characters\n",
    "    cipher = []\n",
    "    for x in message:\n",
    "        if x == \" \": #return space if space\n",
    "            cipher.append(\" \")\n",
    "        else:\n",
    "            order_letter = ord(x) + int(shift)\n",
    "            if ((order_letter > 90) and (ord(x) < 97)) or (order_letter > 122): #check for small letter cases\n",
    "                order_letter -= 26\n",
    "                cipher.append(chr(order_letter))\n",
    "            else:\n",
    "                cipher.append(chr(order_letter))\n",
    "    cipher_string = '' #initalize cipher string\n",
    "    for y in cipher: #iterate over list\n",
    "        cipher_string += y\n",
    "    return cipher_string #return"
   ]
  },
  {
   "cell_type": "code",
   "execution_count": null,
   "id": "6752511d-4fbe-4dcb-ac65-aaca82ae86eb",
   "metadata": {},
   "outputs": [],
   "source": [
    "def shift_by_letter(letter, letter_shift):\n",
    "    #same process as shift_letter. subtract order of letter_shift by 65 to get desired results\n",
    "    if letter == \" \":\n",
    "        print (\" \")\n",
    "    else:\n",
    "        order_letter = ord(letter.capitalize()) + ord(letter_shift) - 65\n",
    "        if order_letter > 90:\n",
    "            order_letter -= 26\n",
    "            return (chr(order_letter))\n",
    "        else:\n",
    "            return (chr(order_letter))"
   ]
  },
  {
   "cell_type": "code",
   "execution_count": null,
   "id": "33cadc61-0b59-4250-b5a1-198cbc8615d0",
   "metadata": {},
   "outputs": [],
   "source": [
    "def vigenere_cipher(message, key):\n",
    "    cipher = []\n",
    "    key_list = list(key) #initialize key as list\n",
    "    key_count = 0 \n",
    "    for x in message: #iterate over all characters of message, and all characters of key\n",
    "        if x == \" \":\n",
    "            cipher.append(\" \")\n",
    "            key_count +=1\n",
    "        else:\n",
    "            order_letter = ord(x) + ord(key_list[key_count]) - 65 \n",
    "            if ((order_letter > 90) and (ord(x) < 97)) or (order_letter > 122): \n",
    "                order_letter -= 26\n",
    "                cipher.append(chr(order_letter))\n",
    "                key_count +=1 \n",
    "            else:\n",
    "                cipher.append(chr(order_letter))\n",
    "                key_count+=1\n",
    "    cipher_string = \"\"\n",
    "    for y in cipher:\n",
    "        cipher_string += y\n",
    "    return cipher_string"
   ]
  },
  {
   "cell_type": "code",
   "execution_count": 1,
   "id": "6b23ec0e-cd24-491b-b732-db9351c57914",
   "metadata": {},
   "outputs": [],
   "source": [
    "def scytale_cipher(message,shift):\n",
    "    cipher = []\n",
    "    underscores = len(message) % shift #length of needed underscores\n",
    "    while underscores % shift !=0: #terminate when length of needed underscores is met\n",
    "        message += \"_\"\n",
    "        underscores +=1\n",
    "    counter = 0\n",
    "    while counter < len(message): #loop, iterate len(message) times\n",
    "        scytale_index = (counter // shift) + ((len(message) // shift) * (counter % shift))\n",
    "        cipher.append(message[scytale_index]) #new index\n",
    "        counter +=1\n",
    "    cipher_string = '' \n",
    "    for y in cipher:\n",
    "        cipher_string += y\n",
    "    return cipher_string"
   ]
  },
  {
   "cell_type": "code",
   "execution_count": 2,
   "id": "451b133c-ef2e-48ee-90d0-b0badb5c09c2",
   "metadata": {},
   "outputs": [],
   "source": [
    "def scytale_decipher(message,shift):\n",
    "    scytale_cipher(message,(len(message) // shift)) #call scytale_cipher to unwind "
   ]
  },
  {
   "cell_type": "code",
   "execution_count": null,
   "id": "c4da7cfe-e783-48c5-9ca1-afe452a322c7",
   "metadata": {},
   "outputs": [],
   "source": []
  }
 ],
 "metadata": {
  "kernelspec": {
   "display_name": "Python 3 (ipykernel)",
   "language": "python",
   "name": "python3"
  },
  "language_info": {
   "codemirror_mode": {
    "name": "ipython",
    "version": 3
   },
   "file_extension": ".py",
   "mimetype": "text/x-python",
   "name": "python",
   "nbconvert_exporter": "python",
   "pygments_lexer": "ipython3",
   "version": "3.9.12"
  }
 },
 "nbformat": 4,
 "nbformat_minor": 5
}
